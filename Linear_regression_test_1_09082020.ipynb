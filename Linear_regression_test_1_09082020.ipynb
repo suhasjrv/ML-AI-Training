{
  "nbformat": 4,
  "nbformat_minor": 0,
  "metadata": {
    "colab": {
      "name": "Linear regression test 1 09082020",
      "provenance": [],
      "collapsed_sections": [],
      "authorship_tag": "ABX9TyNBMc9kopc0TafuZE1rx454",
      "include_colab_link": true
    },
    "kernelspec": {
      "name": "python3",
      "display_name": "Python 3"
    }
  },
  "cells": [
    {
      "cell_type": "markdown",
      "metadata": {
        "id": "view-in-github",
        "colab_type": "text"
      },
      "source": [
        "<a href=\"https://colab.research.google.com/github/suhasjrv/ML-AI-Training/blob/master/Linear_regression_test_1_09082020.ipynb\" target=\"_parent\"><img src=\"https://colab.research.google.com/assets/colab-badge.svg\" alt=\"Open In Colab\"/></a>"
      ]
    },
    {
      "cell_type": "code",
      "metadata": {
        "id": "BzUOQutvsAfW",
        "colab_type": "code",
        "colab": {
          "base_uri": "https://localhost:8080/",
          "height": 550
        },
        "outputId": "f3e01d51-cdf1-46fa-c5cf-f47a885559ae"
      },
      "source": [
        "#Predict median_house_value with median_income\n",
        "import pandas as pd\n",
        "import numpy as np\n",
        "from matplotlib import pyplot as plt \n",
        "\n",
        "california_housing_dataframe = pd.read_csv(\"https://download.mlcc.google.com/mledu-datasets/california_housing_train.csv\", sep=\",\")\n",
        "print(california_housing_dataframe.columns)\n",
        "h_income = california_housing_dataframe['median_income']\n",
        "h_value = california_housing_dataframe['median_house_value']\n",
        "\n",
        "#Getting only the first 100 values\n",
        "np_h_income = np.array(h_income[1:100])\n",
        "np_h_value = np.array(h_value[1:100])\n",
        "\n",
        "#Perform scaling for housing value_\n",
        "np_h_value_scaled = (np_h_value - np.mean(np_h_value))/(np.std(np_h_value))\n",
        "plt.scatter(np_h_income,np_h_value_scaled,c='g')\n",
        "plt.xlabel('Median income in hundred thousand dollars')\n",
        "plt.ylabel('Median house value scaled.')\n",
        "plt.title('Income vs Houes Value')\n",
        "# plt.show()\n",
        "m = len(np_h_value_scaled)\n",
        "y = np_h_value_scaled\n",
        "X = [np.ones(m),np_h_income]\n",
        "theta = np.zeros((2,1))\n",
        "\n",
        "def computeCost(X,y,theta)\n",
        "  J = (1/(2*m))*np.sum(np.square((X*theta - y)))\n",
        "  return J\n",
        "\n",
        "\n",
        "print(\"The value of J is: \",computeCost(X,y,theta))\n",
        "\n",
        "\n",
        "def gradientDescent(X,y,theta,alpha,num_iters):\n",
        "  J = np.zeros(num_iters)\n",
        "  for i in range(num_iters):\n",
        "    theta = theta - (alpha/m)*np.transpose(((X*theta-y)*np.transpose(X)))\n",
        "\n",
        "    J[i] = computeCost(X,y,theta)\n",
        "  \n",
        "\n",
        "\n",
        "\n"
      ],
      "execution_count": null,
      "outputs": [
        {
          "output_type": "stream",
          "text": [
            "Index(['longitude', 'latitude', 'housing_median_age', 'total_rooms',\n",
            "       'total_bedrooms', 'population', 'households', 'median_income',\n",
            "       'median_house_value'],\n",
            "      dtype='object')\n",
            "[[0. 0. 0. 0. 0. 0. 0. 0. 0. 0. 0. 0. 0. 0. 0. 0. 0. 0. 0. 0. 0. 0. 0. 0.\n",
            "  0. 0. 0. 0. 0. 0. 0. 0. 0. 0. 0. 0. 0. 0. 0. 0. 0. 0. 0. 0. 0. 0. 0. 0.\n",
            "  0. 0. 0. 0. 0. 0. 0. 0. 0. 0. 0. 0. 0. 0. 0. 0. 0. 0. 0. 0. 0. 0. 0. 0.\n",
            "  0. 0. 0. 0. 0. 0. 0. 0. 0. 0. 0. 0. 0. 0. 0. 0. 0. 0. 0. 0. 0. 0. 0. 0.\n",
            "  0. 0. 0.]\n",
            " [0. 0. 0. 0. 0. 0. 0. 0. 0. 0. 0. 0. 0. 0. 0. 0. 0. 0. 0. 0. 0. 0. 0. 0.\n",
            "  0. 0. 0. 0. 0. 0. 0. 0. 0. 0. 0. 0. 0. 0. 0. 0. 0. 0. 0. 0. 0. 0. 0. 0.\n",
            "  0. 0. 0. 0. 0. 0. 0. 0. 0. 0. 0. 0. 0. 0. 0. 0. 0. 0. 0. 0. 0. 0. 0. 0.\n",
            "  0. 0. 0. 0. 0. 0. 0. 0. 0. 0. 0. 0. 0. 0. 0. 0. 0. 0. 0. 0. 0. 0. 0. 0.\n",
            "  0. 0. 0.]]\n",
            "The value of J is:  1.0\n"
          ],
          "name": "stdout"
        },
        {
          "output_type": "display_data",
          "data": {
            "image/png": "[encoded data removed]",
            "text/plain": [
              "<Figure size 432x288 with 1 Axes>"
            ]
          },
          "metadata": {
            "tags": [],
            "needs_background": "light"
          }
        }
      ]
    },
    {
      "cell_type": "code",
      "metadata": {
        "id": "-o1r1Q-5F4KT",
        "colab_type": "code",
        "colab": {
          "base_uri": "https://localhost:8080/",
          "height": 51
        },
        "outputId": "36e06216-21ff-41c0-f0f1-c3e882ce66e1"
      },
      "source": [
        "import numpy as np\n",
        "print(np.zeros((2,1)))"
      ],
      "execution_count": null,
      "outputs": [
        {
          "output_type": "stream",
          "text": [
            "[[0.]\n",
            " [0.]]\n"
          ],
          "name": "stdout"
        }
      ]
    }
  ]
}