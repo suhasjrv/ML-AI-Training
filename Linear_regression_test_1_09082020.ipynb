{
  "nbformat": 4,
  "nbformat_minor": 0,
  "metadata": {
    "colab": {
      "name": "Linear regression test 1 09082020",
      "provenance": [],
      "collapsed_sections": [],
      "include_colab_link": true
    },
    "kernelspec": {
      "name": "python3",
      "display_name": "Python 3"
    }
  },
  "cells": [
    {
      "cell_type": "markdown",
      "metadata": {
        "id": "view-in-github",
        "colab_type": "text"
      },
      "source": [
        "<a href=\"https://colab.research.google.com/github/suhasjrv/ML-AI-Training/blob/master/Linear_regression_test_1_09082020.ipynb\" target=\"_parent\"><img src=\"https://colab.research.google.com/assets/colab-badge.svg\" alt=\"Open In Colab\"/></a>"
      ]
    },
    {
      "cell_type": "code",
      "metadata": {
        "id": "BzUOQutvsAfW",
        "colab_type": "code",
        "colab": {
          "base_uri": "https://localhost:8080/",
          "height": 314
        },
        "outputId": "e34e5a45-8792-49b9-8d1d-fcfaeeba19e0"
      },
      "source": [
        "#Predict median_house_value with median_income\n",
        "import pandas as pd\n",
        "import numpy as np\n",
        "from matplotlib import pyplot as plt \n",
        "\n",
        "data = np.array(pd.read_csv(\"/content/ex1data1.txt\"))\n",
        "x = data[:,0]\n",
        "y = data[:,1]\n",
        "m = len(y)\n",
        "plt.scatter(x,y,marker='x')\n",
        "plt.ylabel('Profit in $10,000s')\n",
        "plt.xlabel('Population of City in 10,000s')\n",
        "plt.show()\n",
        "\n",
        "X = np.column_stack([np.ones(m),x])\n",
        "def computeCost(X,y,theta):\n",
        "    J = (1/(2*m))*(np.sum(np.square(np.subtract(np.matmul(X,theta),y))))\n",
        "    return J\n",
        "initial_theta = np.zeros((2,1))\n",
        "print(np.sum(np.matmul(X,initial_theta) - y))\n",
        "print(\"J = {}\".format(computeCost(X,y,initial_theta)))\n"
      ],
      "execution_count": 31,
      "outputs": [
        {
          "output_type": "display_data",
          "data": {
            "image/png": "[encoded data removed]",
            "text/plain": [
              "<Figure size 432x288 with 1 Axes>"
            ]
          },
          "metadata": {
            "tags": [],
            "needs_background": "light"
          }
        },
        {
          "output_type": "stream",
          "text": [
            "-52685.1936\n",
            "J = 2956.315954113201\n"
          ],
          "name": "stdout"
        }
      ]
    },
    {
      "cell_type": "code",
      "metadata": {
        "id": "IDOPNNdM3WtZ",
        "colab_type": "code",
        "colab": {
          "base_uri": "https://localhost:8080/",
          "height": 68
        },
        "outputId": "972b5dd5-0256-4684-f713-1f65682b36cb"
      },
      "source": [
        "import numpy as np\n",
        "print(np.sum([[1,2],[2,3]]))\n",
        "print(np.zeros((2,1)))\n"
      ],
      "execution_count": 25,
      "outputs": [
        {
          "output_type": "stream",
          "text": [
            "8\n",
            "[[0.]\n",
            " [0.]]\n"
          ],
          "name": "stdout"
        }
      ]
    },
    {
      "cell_type": "markdown",
      "metadata": {
        "id": "rOiZWdwe3Xdc",
        "colab_type": "text"
      },
      "source": [
        "The below block is used for downloading files from drive."
      ]
    },
    {
      "cell_type": "code",
      "metadata": {
        "id": "-o1r1Q-5F4KT",
        "colab_type": "code",
        "colab": {
          "base_uri": "https://localhost:8080/",
          "height": 153
        },
        "outputId": "40afe4a7-2cd7-4c08-8e8d-3230f7264a2c"
      },
      "source": [
        "from pydrive.auth import GoogleAuth\n",
        "from pydrive.drive import GoogleDrive\n",
        "from google.colab import auth\n",
        "from oauth2client.client import GoogleCredentials\n",
        "auth.authenticate_user()\n",
        "gauth = GoogleAuth()\n",
        "gauth.credentials = GoogleCredentials.get_application_default()\n",
        "drive = GoogleDrive(gauth)\n",
        "\n",
        "downloaded = drive.CreateFile({'id':\"1qRNUV-90sX_U2iAGtEN1z-gjMdMLDNTA\"})   # replace the id with id of file you want to access\n",
        "downloaded.GetContentFile('ex1data1.txt')        # replace the file name with your file\n",
        "\n",
        "!ls -lart\n",
        "!realpath ex1data1.txt"
      ],
      "execution_count": 8,
      "outputs": [
        {
          "output_type": "stream",
          "text": [
            "total 32\n",
            "drwxr-xr-x 1 root root 4096 Jul 30 16:30 sample_data\n",
            "drwxr-xr-x 1 root root 4096 Aug 20 02:28 ..\n",
            "drwxr-xr-x 1 root root 4096 Aug 20 03:07 .config\n",
            "-rw-r--r-- 1 root root 2662 Aug 20 03:07 adc.json\n",
            "drwxr-xr-x 1 root root 4096 Aug 20 03:08 .\n",
            "-rw-r--r-- 1 root root 1359 Aug 20 03:09 ex1data1.txt\n",
            "/content/ex1data1.txt\n"
          ],
          "name": "stdout"
        }
      ]
    }
  ]
}